{
  "nbformat": 4,
  "nbformat_minor": 0,
  "metadata": {
    "colab": {
      "name": "Homicide.ipynb",
      "provenance": []
    },
    "kernelspec": {
      "name": "python3",
      "display_name": "Python 3"
    }
  },
  "cells": [
    {
      "cell_type": "markdown",
      "metadata": {
        "id": "Kpz1w9XwIEWz"
      },
      "source": [
        "## Module Imports\r\n"
      ]
    },
    {
      "cell_type": "code",
      "metadata": {
        "colab": {
          "base_uri": "https://localhost:8080/"
        },
        "id": "GfyNHijDTq3S",
        "outputId": "23817a32-5a70-4389-f919-3bbbb6be1816"
      },
      "source": [
        "import numpy as np\r\n",
        "import pandas as pd \r\n",
        "import seaborn as sns\r\n",
        "import matplotlib.pyplot as plt\r\n",
        "!wget \"https://github.com/ViharDevalla/TensorProject/raw/main/archive.zip\"\r\n",
        "!unzip archive.zip\r\n",
        "dataset = pd.read_csv('database.csv')"
      ],
      "execution_count": 121,
      "outputs": [
        {
          "output_type": "stream",
          "text": [
            "--2021-03-07 10:03:52--  https://github.com/ViharDevalla/TensorProject/raw/main/archive.zip\n",
            "Resolving github.com (github.com)... 140.82.112.3\n",
            "Connecting to github.com (github.com)|140.82.112.3|:443... connected.\n",
            "HTTP request sent, awaiting response... 302 Found\n",
            "Location: https://raw.githubusercontent.com/ViharDevalla/TensorProject/main/archive.zip [following]\n",
            "--2021-03-07 10:03:53--  https://raw.githubusercontent.com/ViharDevalla/TensorProject/main/archive.zip\n",
            "Resolving raw.githubusercontent.com (raw.githubusercontent.com)... 185.199.108.133, 185.199.109.133, 185.199.110.133, ...\n",
            "Connecting to raw.githubusercontent.com (raw.githubusercontent.com)|185.199.108.133|:443... connected.\n",
            "HTTP request sent, awaiting response... 200 OK\n",
            "Length: 10306987 (9.8M) [application/zip]\n",
            "Saving to: ‘archive.zip.1’\n",
            "\n",
            "archive.zip.1       100%[===================>]   9.83M  58.7MB/s    in 0.2s    \n",
            "\n",
            "2021-03-07 10:03:53 (58.7 MB/s) - ‘archive.zip.1’ saved [10306987/10306987]\n",
            "\n",
            "Archive:  archive.zip\n",
            "replace database.csv? [y]es, [n]o, [A]ll, [N]one, [r]ename: y\n",
            "  inflating: database.csv            \n"
          ],
          "name": "stdout"
        },
        {
          "output_type": "stream",
          "text": [
            "/usr/local/lib/python3.7/dist-packages/IPython/core/interactiveshell.py:2718: DtypeWarning: Columns (16) have mixed types.Specify dtype option on import or set low_memory=False.\n",
            "  interactivity=interactivity, compiler=compiler, result=result)\n"
          ],
          "name": "stderr"
        }
      ]
    },
    {
      "cell_type": "markdown",
      "metadata": {
        "id": "vXQEQux0I_sT"
      },
      "source": [
        "## EDA\r\n"
      ]
    },
    {
      "cell_type": "code",
      "metadata": {
        "colab": {
          "base_uri": "https://localhost:8080/",
          "height": 0
        },
        "id": "WyIzQlI5a3kN",
        "outputId": "d8361cde-ad90-4f6b-92bd-0faf54c31c5d"
      },
      "source": [
        "dataset.describe()\r\n"
      ],
      "execution_count": 138,
      "outputs": [
        {
          "output_type": "execute_result",
          "data": {
            "text/html": [
              "<div>\n",
              "<style scoped>\n",
              "    .dataframe tbody tr th:only-of-type {\n",
              "        vertical-align: middle;\n",
              "    }\n",
              "\n",
              "    .dataframe tbody tr th {\n",
              "        vertical-align: top;\n",
              "    }\n",
              "\n",
              "    .dataframe thead th {\n",
              "        text-align: right;\n",
              "    }\n",
              "</style>\n",
              "<table border=\"1\" class=\"dataframe\">\n",
              "  <thead>\n",
              "    <tr style=\"text-align: right;\">\n",
              "      <th></th>\n",
              "      <th>Record ID</th>\n",
              "      <th>Year</th>\n",
              "      <th>Incident</th>\n",
              "      <th>Victim Age</th>\n",
              "      <th>Victim Count</th>\n",
              "      <th>Perpetrator Count</th>\n",
              "    </tr>\n",
              "  </thead>\n",
              "  <tbody>\n",
              "    <tr>\n",
              "      <th>count</th>\n",
              "      <td>638454.00000</td>\n",
              "      <td>638454.000000</td>\n",
              "      <td>638454.000000</td>\n",
              "      <td>638454.000000</td>\n",
              "      <td>638454.000000</td>\n",
              "      <td>638454.000000</td>\n",
              "    </tr>\n",
              "    <tr>\n",
              "      <th>mean</th>\n",
              "      <td>319227.50000</td>\n",
              "      <td>1995.801102</td>\n",
              "      <td>22.967924</td>\n",
              "      <td>35.033512</td>\n",
              "      <td>0.123334</td>\n",
              "      <td>0.185224</td>\n",
              "    </tr>\n",
              "    <tr>\n",
              "      <th>std</th>\n",
              "      <td>184305.93872</td>\n",
              "      <td>9.927693</td>\n",
              "      <td>92.149821</td>\n",
              "      <td>41.628306</td>\n",
              "      <td>0.537733</td>\n",
              "      <td>0.585496</td>\n",
              "    </tr>\n",
              "    <tr>\n",
              "      <th>min</th>\n",
              "      <td>1.00000</td>\n",
              "      <td>1980.000000</td>\n",
              "      <td>0.000000</td>\n",
              "      <td>0.000000</td>\n",
              "      <td>0.000000</td>\n",
              "      <td>0.000000</td>\n",
              "    </tr>\n",
              "    <tr>\n",
              "      <th>25%</th>\n",
              "      <td>159614.25000</td>\n",
              "      <td>1987.000000</td>\n",
              "      <td>1.000000</td>\n",
              "      <td>22.000000</td>\n",
              "      <td>0.000000</td>\n",
              "      <td>0.000000</td>\n",
              "    </tr>\n",
              "    <tr>\n",
              "      <th>50%</th>\n",
              "      <td>319227.50000</td>\n",
              "      <td>1995.000000</td>\n",
              "      <td>2.000000</td>\n",
              "      <td>30.000000</td>\n",
              "      <td>0.000000</td>\n",
              "      <td>0.000000</td>\n",
              "    </tr>\n",
              "    <tr>\n",
              "      <th>75%</th>\n",
              "      <td>478840.75000</td>\n",
              "      <td>2004.000000</td>\n",
              "      <td>10.000000</td>\n",
              "      <td>42.000000</td>\n",
              "      <td>0.000000</td>\n",
              "      <td>0.000000</td>\n",
              "    </tr>\n",
              "    <tr>\n",
              "      <th>max</th>\n",
              "      <td>638454.00000</td>\n",
              "      <td>2014.000000</td>\n",
              "      <td>999.000000</td>\n",
              "      <td>998.000000</td>\n",
              "      <td>10.000000</td>\n",
              "      <td>10.000000</td>\n",
              "    </tr>\n",
              "  </tbody>\n",
              "</table>\n",
              "</div>"
            ],
            "text/plain": [
              "          Record ID           Year  ...   Victim Count  Perpetrator Count\n",
              "count  638454.00000  638454.000000  ...  638454.000000      638454.000000\n",
              "mean   319227.50000    1995.801102  ...       0.123334           0.185224\n",
              "std    184305.93872       9.927693  ...       0.537733           0.585496\n",
              "min         1.00000    1980.000000  ...       0.000000           0.000000\n",
              "25%    159614.25000    1987.000000  ...       0.000000           0.000000\n",
              "50%    319227.50000    1995.000000  ...       0.000000           0.000000\n",
              "75%    478840.75000    2004.000000  ...       0.000000           0.000000\n",
              "max    638454.00000    2014.000000  ...      10.000000          10.000000\n",
              "\n",
              "[8 rows x 6 columns]"
            ]
          },
          "metadata": {
            "tags": []
          },
          "execution_count": 138
        }
      ]
    },
    {
      "cell_type": "code",
      "metadata": {
        "colab": {
          "base_uri": "https://localhost:8080/",
          "height": 0
        },
        "id": "HZDAgd6xbZe7",
        "outputId": "6f31586a-e907-438c-8451-9225d7cceb0d"
      },
      "source": [
        "sns.distplot(dataset['Year'])\r\n"
      ],
      "execution_count": 139,
      "outputs": [
        {
          "output_type": "stream",
          "text": [
            "/usr/local/lib/python3.7/dist-packages/seaborn/distributions.py:2557: FutureWarning: `distplot` is a deprecated function and will be removed in a future version. Please adapt your code to use either `displot` (a figure-level function with similar flexibility) or `histplot` (an axes-level function for histograms).\n",
            "  warnings.warn(msg, FutureWarning)\n"
          ],
          "name": "stderr"
        },
        {
          "output_type": "execute_result",
          "data": {
            "text/plain": [
              "<matplotlib.axes._subplots.AxesSubplot at 0x7f085dac0d50>"
            ]
          },
          "metadata": {
            "tags": []
          },
          "execution_count": 139
        },
        {
          "output_type": "display_data",
          "data": {
            "image/png": "[encoded data removed]",
            "text/plain": [
              "<Figure size 432x288 with 1 Axes>"
            ]
          },
          "metadata": {
            "tags": []
          }
        }
      ]
    },
    {
      "cell_type": "code",
      "metadata": {
        "colab": {
          "base_uri": "https://localhost:8080/"
        },
        "id": "ulhHenLmksul",
        "outputId": "4753ed9a-1dab-438f-a1d0-0a8e7e4ef6db"
      },
      "source": [
        "dataset['Year'].value_counts()"
      ],
      "execution_count": 140,
      "outputs": [
        {
          "output_type": "execute_result",
          "data": {
            "text/plain": [
              "1993    24335\n",
              "1992    23793\n",
              "1994    23246\n",
              "1980    23092\n",
              "1991    22657\n",
              "1990    21246\n",
              "1981    21208\n",
              "1995    21179\n",
              "1982    20544\n",
              "1986    20125\n",
              "1989    19868\n",
              "1983    19653\n",
              "1996    18969\n",
              "1987    18783\n",
              "1988    18779\n",
              "1985    18386\n",
              "1984    18093\n",
              "1997    17794\n",
              "2007    17303\n",
              "2006    17275\n",
              "2005    16836\n",
              "2003    16512\n",
              "2002    16268\n",
              "2004    16233\n",
              "1998    16061\n",
              "2009    15840\n",
              "2001    15803\n",
              "2008    15595\n",
              "2010    15121\n",
              "2012    15033\n",
              "2011    14756\n",
              "2000    14671\n",
              "1999    14621\n",
              "2013    14445\n",
              "2014    14331\n",
              "Name: Year, dtype: int64"
            ]
          },
          "metadata": {
            "tags": []
          },
          "execution_count": 140
        }
      ]
    },
    {
      "cell_type": "code",
      "metadata": {
        "colab": {
          "base_uri": "https://localhost:8080/"
        },
        "id": "nZVTET9BkbXF",
        "outputId": "70b87cff-cf98-4dce-d0f8-83cda8572caa"
      },
      "source": [
        "dataset['Year'].unique()"
      ],
      "execution_count": 141,
      "outputs": [
        {
          "output_type": "execute_result",
          "data": {
            "text/plain": [
              "array([1980, 1981, 1982, 1983, 1984, 1985, 1986, 1987, 1988, 1989, 1990,\n",
              "       1991, 1992, 1993, 1994, 1995, 1996, 1997, 1998, 1999, 2000, 2001,\n",
              "       2002, 2003, 2004, 2005, 2006, 2007, 2008, 2009, 2010, 2011, 2012,\n",
              "       2013, 2014])"
            ]
          },
          "metadata": {
            "tags": []
          },
          "execution_count": 141
        }
      ]
    },
    {
      "cell_type": "code",
      "metadata": {
        "colab": {
          "base_uri": "https://localhost:8080/"
        },
        "id": "SphmmRZIce8n",
        "outputId": "36a99c18-52b6-49b8-b255-df72b03e2666"
      },
      "source": [
        "dataset['Year'].tail"
      ],
      "execution_count": 142,
      "outputs": [
        {
          "output_type": "execute_result",
          "data": {
            "text/plain": [
              "<bound method NDFrame.tail of 0         1980\n",
              "1         1980\n",
              "2         1980\n",
              "3         1980\n",
              "4         1980\n",
              "          ... \n",
              "638449    2014\n",
              "638450    2014\n",
              "638451    2014\n",
              "638452    2014\n",
              "638453    2014\n",
              "Name: Year, Length: 638454, dtype: int64>"
            ]
          },
          "metadata": {
            "tags": []
          },
          "execution_count": 142
        }
      ]
    },
    {
      "cell_type": "code",
      "metadata": {
        "colab": {
          "base_uri": "https://localhost:8080/",
          "height": 0
        },
        "id": "ZJsM8yMAf5FZ",
        "outputId": "91ef37b1-2ab5-405d-c406-5fe43cd7922d"
      },
      "source": [
        "# Dataframe correlation\r\n",
        "del_corr = dataset.corr()\r\n",
        "# Draw the figure\r\n",
        "f, ax = plt.subplots(figsize=(12, 13))\r\n",
        "\r\n",
        "# Draw the heatmap\r\n",
        "sns.heatmap(del_corr,annot=True,cmap='inferno')\r\n",
        "plt.show()"
      ],
      "execution_count": 143,
      "outputs": [
        {
          "output_type": "display_data",
          "data": {
            "image/png": "[encoded data removed]",
            "text/plain": [
              "<Figure size 864x936 with 2 Axes>"
            ]
          },
          "metadata": {
            "tags": []
          }
        }
      ]
    },
    {
      "cell_type": "code",
      "metadata": {
        "colab": {
          "base_uri": "https://localhost:8080/"
        },
        "id": "bsKoyuaChREa",
        "outputId": "d797ed52-7ea2-4c36-b3c6-275571c6496a"
      },
      "source": [
        "dataset.head"
      ],
      "execution_count": 144,
      "outputs": [
        {
          "output_type": "execute_result",
          "data": {
            "text/plain": [
              "<bound method NDFrame.head of         Record ID Agency Code  ... Perpetrator Count Record Source\n",
              "0               1     AK00101  ...                 0           FBI\n",
              "1               2     AK00101  ...                 0           FBI\n",
              "2               3     AK00101  ...                 0           FBI\n",
              "3               4     AK00101  ...                 0           FBI\n",
              "4               5     AK00101  ...                 1           FBI\n",
              "...           ...         ...  ...               ...           ...\n",
              "638449     638450     WY01500  ...                 0           FBI\n",
              "638450     638451     WY01700  ...                 0           FBI\n",
              "638451     638452     WY01701  ...                 0           FBI\n",
              "638452     638453     WY01800  ...                 1           FBI\n",
              "638453     638454     WY01902  ...                 1           FBI\n",
              "\n",
              "[638454 rows x 24 columns]>"
            ]
          },
          "metadata": {
            "tags": []
          },
          "execution_count": 144
        }
      ]
    },
    {
      "cell_type": "code",
      "metadata": {
        "colab": {
          "base_uri": "https://localhost:8080/"
        },
        "id": "tQpdEFhQlY4L",
        "outputId": "9df0e987-6f36-4e63-83ba-0036cd9e2077"
      },
      "source": [
        "dataset['Crime Solved'].value_counts()"
      ],
      "execution_count": 145,
      "outputs": [
        {
          "output_type": "execute_result",
          "data": {
            "text/plain": [
              "Yes    448172\n",
              "No     190282\n",
              "Name: Crime Solved, dtype: int64"
            ]
          },
          "metadata": {
            "tags": []
          },
          "execution_count": 145
        }
      ]
    },
    {
      "cell_type": "code",
      "metadata": {
        "id": "8APlRShNgr54",
        "colab": {
          "base_uri": "https://localhost:8080/",
          "height": 0
        },
        "outputId": "e29e7f49-8591-4f2d-8422-5b4c86718bfd"
      },
      "source": [
        "''' sns.set(style=\"whitegrid\")\r\n",
        "\r\n",
        "# initialize the figure\r\n",
        "fig_dim = (10,12)\r\n",
        "f, ax = plt.subplots(figsize=fig_dim)\r\n",
        "sns.despine(bottom=True, left=True)\r\n",
        "\r\n",
        "# Show each observation with a scatterplot\r\n",
        "sns.stripplot(x=\"\", y=\"\",\r\n",
        "              data=fd, dodge=True, jitter=True\r\n",
        "            )\r\n",
        "plt.show() '''"
      ],
      "execution_count": 146,
      "outputs": [
        {
          "output_type": "execute_result",
          "data": {
            "application/vnd.google.colaboratory.intrinsic+json": {
              "type": "string"
            },
            "text/plain": [
              "' sns.set(style=\"whitegrid\")\\n\\n# initialize the figure\\nfig_dim = (10,12)\\nf, ax = plt.subplots(figsize=fig_dim)\\nsns.despine(bottom=True, left=True)\\n\\n# Show each observation with a scatterplot\\nsns.stripplot(x=\"\", y=\"\",\\n              data=fd, dodge=True, jitter=True\\n            )\\nplt.show() '"
            ]
          },
          "metadata": {
            "tags": []
          },
          "execution_count": 146
        }
      ]
    },
    {
      "cell_type": "code",
      "metadata": {
        "colab": {
          "base_uri": "https://localhost:8080/",
          "height": 0
        },
        "id": "xgGT4kDJhIqO",
        "outputId": "34894134-2e6f-4ad3-f089-ecb04dbbc4c7"
      },
      "source": [
        "fig_dim = (8,8)\r\n",
        "f, ax = plt.subplots(figsize=fig_dim)\r\n",
        "quality=dataset[\"Victim Sex\"].unique()\r\n",
        "size=dataset[\"Victim Sex\"].value_counts()\r\n",
        "\r\n",
        "plt.pie(size,labels=quality,autopct='%1.0f%%')\r\n",
        "plt.show()"
      ],
      "execution_count": 147,
      "outputs": [
        {
          "output_type": "display_data",
          "data": {
            "image/png": "[encoded data removed]",
            "text/plain": [
              "<Figure size 576x576 with 1 Axes>"
            ]
          },
          "metadata": {
            "tags": []
          }
        }
      ]
    },
    {
      "cell_type": "code",
      "metadata": {
        "colab": {
          "base_uri": "https://localhost:8080/",
          "height": 0
        },
        "id": "BQqPk8S2hqfy",
        "outputId": "48cc4822-9576-4a1c-ed17-4b60e47be5bb"
      },
      "source": [
        "fig_dim = (8,8)\r\n",
        "f, ax = plt.subplots(figsize=fig_dim)\r\n",
        "quality=dataset[\"Perpetrator Sex\"].unique()\r\n",
        "size=dataset[\"Perpetrator Sex\"].value_counts()\r\n",
        "\r\n",
        "plt.pie(size,labels=quality,autopct='%1.0f%%')\r\n",
        "plt.show()"
      ],
      "execution_count": 148,
      "outputs": [
        {
          "output_type": "display_data",
          "data": {
            "image/png": "[encoded data removed]",
            "text/plain": [
              "<Figure size 576x576 with 1 Axes>"
            ]
          },
          "metadata": {
            "tags": []
          }
        }
      ]
    },
    {
      "cell_type": "code",
      "metadata": {
        "colab": {
          "base_uri": "https://localhost:8080/",
          "height": 0
        },
        "id": "PuF22r6EijFz",
        "outputId": "7d75a5b9-f177-4f32-d2cb-ae73196ceb80"
      },
      "source": [
        "fig_dim = (15,15)\r\n",
        "f, ax = plt.subplots(figsize=fig_dim)\r\n",
        "quality=dataset[\"Weapon\"].unique()\r\n",
        "size=dataset[\"Weapon\"].value_counts()\r\n",
        "\r\n",
        "plt.pie(size,labels=quality,autopct='%0.0f%%')\r\n",
        "plt.title(\"Weapons Used\")\r\n",
        "plt.show()"
      ],
      "execution_count": 149,
      "outputs": [
        {
          "output_type": "display_data",
          "data": {
            "image/png": "[encoded data removed]",
            "text/plain": [
              "<Figure size 1080x1080 with 1 Axes>"
            ]
          },
          "metadata": {
            "tags": []
          }
        }
      ]
    },
    {
      "cell_type": "code",
      "metadata": {
        "colab": {
          "base_uri": "https://localhost:8080/"
        },
        "id": "Ya1o25JknHW8",
        "outputId": "cad04576-4c1e-4454-f0f5-6c69c231418d"
      },
      "source": [
        "dataset.columns.to_list()"
      ],
      "execution_count": 150,
      "outputs": [
        {
          "output_type": "execute_result",
          "data": {
            "text/plain": [
              "['Record ID',\n",
              " 'Agency Code',\n",
              " 'Agency Name',\n",
              " 'Agency Type',\n",
              " 'City',\n",
              " 'State',\n",
              " 'Year',\n",
              " 'Month',\n",
              " 'Incident',\n",
              " 'Crime Type',\n",
              " 'Crime Solved',\n",
              " 'Victim Sex',\n",
              " 'Victim Age',\n",
              " 'Victim Race',\n",
              " 'Victim Ethnicity',\n",
              " 'Perpetrator Sex',\n",
              " 'Perpetrator Age',\n",
              " 'Perpetrator Race',\n",
              " 'Perpetrator Ethnicity',\n",
              " 'Relationship',\n",
              " 'Weapon',\n",
              " 'Victim Count',\n",
              " 'Perpetrator Count',\n",
              " 'Record Source']"
            ]
          },
          "metadata": {
            "tags": []
          },
          "execution_count": 150
        }
      ]
    },
    {
      "cell_type": "code",
      "metadata": {
        "id": "mFvKlZw7sTrv"
      },
      "source": [
        "dataset.drop(['Crime Type','Victim Race','Victim Sex',\r\n",
        " 'Victim Ethnicity',\r\n",
        " 'Perpetrator Sex',\r\n",
        " 'Perpetrator Race',\r\n",
        " 'Perpetrator Ethnicity',\r\n",
        " 'Relationship'],inplace=True,axis=1)"
      ],
      "execution_count": 151,
      "outputs": []
    },
    {
      "cell_type": "code",
      "metadata": {
        "colab": {
          "base_uri": "https://localhost:8080/"
        },
        "id": "S3utXv6vrHtm",
        "outputId": "218e91c0-0a62-4021-ce79-f81cc97ab7b1"
      },
      "source": [
        "dataset['City']"
      ],
      "execution_count": 152,
      "outputs": [
        {
          "output_type": "execute_result",
          "data": {
            "text/plain": [
              "0          Anchorage\n",
              "1          Anchorage\n",
              "2          Anchorage\n",
              "3          Anchorage\n",
              "4          Anchorage\n",
              "             ...    \n",
              "638449          Park\n",
              "638450      Sheridan\n",
              "638451      Sheridan\n",
              "638452      Sublette\n",
              "638453    Sweetwater\n",
              "Name: City, Length: 638454, dtype: object"
            ]
          },
          "metadata": {
            "tags": []
          },
          "execution_count": 152
        }
      ]
    },
    {
      "cell_type": "code",
      "metadata": {
        "colab": {
          "base_uri": "https://localhost:8080/"
        },
        "id": "ZXodg__srzhC",
        "outputId": "eb3e9ed1-5fcf-448e-e05e-a76d73dc4924"
      },
      "source": [
        "dataset.columns.to_list()"
      ],
      "execution_count": 153,
      "outputs": [
        {
          "output_type": "execute_result",
          "data": {
            "text/plain": [
              "['Record ID',\n",
              " 'Agency Code',\n",
              " 'Agency Name',\n",
              " 'Agency Type',\n",
              " 'City',\n",
              " 'State',\n",
              " 'Year',\n",
              " 'Month',\n",
              " 'Incident',\n",
              " 'Crime Solved',\n",
              " 'Victim Age',\n",
              " 'Perpetrator Age',\n",
              " 'Weapon',\n",
              " 'Victim Count',\n",
              " 'Perpetrator Count',\n",
              " 'Record Source']"
            ]
          },
          "metadata": {
            "tags": []
          },
          "execution_count": 153
        }
      ]
    },
    {
      "cell_type": "code",
      "metadata": {
        "colab": {
          "base_uri": "https://localhost:8080/"
        },
        "id": "kDwJ1dmItKQR",
        "outputId": "0b8bba4f-965c-42d1-ed0b-72625ffa39e2"
      },
      "source": [
        "dataset.dtypes"
      ],
      "execution_count": 154,
      "outputs": [
        {
          "output_type": "execute_result",
          "data": {
            "text/plain": [
              "Record ID             int64\n",
              "Agency Code          object\n",
              "Agency Name          object\n",
              "Agency Type          object\n",
              "City                 object\n",
              "State                object\n",
              "Year                  int64\n",
              "Month                object\n",
              "Incident              int64\n",
              "Crime Solved         object\n",
              "Victim Age            int64\n",
              "Perpetrator Age      object\n",
              "Weapon               object\n",
              "Victim Count          int64\n",
              "Perpetrator Count     int64\n",
              "Record Source        object\n",
              "dtype: object"
            ]
          },
          "metadata": {
            "tags": []
          },
          "execution_count": 154
        }
      ]
    },
    {
      "cell_type": "code",
      "metadata": {
        "id": "1hNuD96Q8jab"
      },
      "source": [
        "dataset.drop(['State'],inplace=True,axis=1)"
      ],
      "execution_count": 155,
      "outputs": []
    },
    {
      "cell_type": "code",
      "metadata": {
        "colab": {
          "base_uri": "https://localhost:8080/",
          "height": 0
        },
        "id": "jeSLTIhCtnBd",
        "outputId": "a67b860b-c95b-4009-b90d-a2d926e927c9"
      },
      "source": [
        "dataset[['Agency Type',\r\n",
        " 'Weapon','Perpetrator Age' ,'Victim Count',\r\n",
        " 'Perpetrator Count', 'Year',\r\n",
        " 'Incident','Victim Age','Crime Solved']]"
      ],
      "execution_count": 156,
      "outputs": [
        {
          "output_type": "execute_result",
          "data": {
            "text/html": [
              "<div>\n",
              "<style scoped>\n",
              "    .dataframe tbody tr th:only-of-type {\n",
              "        vertical-align: middle;\n",
              "    }\n",
              "\n",
              "    .dataframe tbody tr th {\n",
              "        vertical-align: top;\n",
              "    }\n",
              "\n",
              "    .dataframe thead th {\n",
              "        text-align: right;\n",
              "    }\n",
              "</style>\n",
              "<table border=\"1\" class=\"dataframe\">\n",
              "  <thead>\n",
              "    <tr style=\"text-align: right;\">\n",
              "      <th></th>\n",
              "      <th>Agency Type</th>\n",
              "      <th>Weapon</th>\n",
              "      <th>Perpetrator Age</th>\n",
              "      <th>Victim Count</th>\n",
              "      <th>Perpetrator Count</th>\n",
              "      <th>Year</th>\n",
              "      <th>Incident</th>\n",
              "      <th>Victim Age</th>\n",
              "      <th>Crime Solved</th>\n",
              "    </tr>\n",
              "  </thead>\n",
              "  <tbody>\n",
              "    <tr>\n",
              "      <th>0</th>\n",
              "      <td>Municipal Police</td>\n",
              "      <td>Blunt Object</td>\n",
              "      <td>15</td>\n",
              "      <td>0</td>\n",
              "      <td>0</td>\n",
              "      <td>1980</td>\n",
              "      <td>1</td>\n",
              "      <td>14</td>\n",
              "      <td>Yes</td>\n",
              "    </tr>\n",
              "    <tr>\n",
              "      <th>1</th>\n",
              "      <td>Municipal Police</td>\n",
              "      <td>Strangulation</td>\n",
              "      <td>42</td>\n",
              "      <td>0</td>\n",
              "      <td>0</td>\n",
              "      <td>1980</td>\n",
              "      <td>1</td>\n",
              "      <td>43</td>\n",
              "      <td>Yes</td>\n",
              "    </tr>\n",
              "    <tr>\n",
              "      <th>2</th>\n",
              "      <td>Municipal Police</td>\n",
              "      <td>Unknown</td>\n",
              "      <td>0</td>\n",
              "      <td>0</td>\n",
              "      <td>0</td>\n",
              "      <td>1980</td>\n",
              "      <td>2</td>\n",
              "      <td>30</td>\n",
              "      <td>No</td>\n",
              "    </tr>\n",
              "    <tr>\n",
              "      <th>3</th>\n",
              "      <td>Municipal Police</td>\n",
              "      <td>Strangulation</td>\n",
              "      <td>42</td>\n",
              "      <td>0</td>\n",
              "      <td>0</td>\n",
              "      <td>1980</td>\n",
              "      <td>1</td>\n",
              "      <td>43</td>\n",
              "      <td>Yes</td>\n",
              "    </tr>\n",
              "    <tr>\n",
              "      <th>4</th>\n",
              "      <td>Municipal Police</td>\n",
              "      <td>Unknown</td>\n",
              "      <td>0</td>\n",
              "      <td>0</td>\n",
              "      <td>1</td>\n",
              "      <td>1980</td>\n",
              "      <td>2</td>\n",
              "      <td>30</td>\n",
              "      <td>No</td>\n",
              "    </tr>\n",
              "    <tr>\n",
              "      <th>...</th>\n",
              "      <td>...</td>\n",
              "      <td>...</td>\n",
              "      <td>...</td>\n",
              "      <td>...</td>\n",
              "      <td>...</td>\n",
              "      <td>...</td>\n",
              "      <td>...</td>\n",
              "      <td>...</td>\n",
              "      <td>...</td>\n",
              "    </tr>\n",
              "    <tr>\n",
              "      <th>638449</th>\n",
              "      <td>Sheriff</td>\n",
              "      <td>Handgun</td>\n",
              "      <td>0</td>\n",
              "      <td>0</td>\n",
              "      <td>0</td>\n",
              "      <td>2014</td>\n",
              "      <td>1</td>\n",
              "      <td>30</td>\n",
              "      <td>No</td>\n",
              "    </tr>\n",
              "    <tr>\n",
              "      <th>638450</th>\n",
              "      <td>Sheriff</td>\n",
              "      <td>Handgun</td>\n",
              "      <td>57</td>\n",
              "      <td>0</td>\n",
              "      <td>0</td>\n",
              "      <td>2014</td>\n",
              "      <td>1</td>\n",
              "      <td>62</td>\n",
              "      <td>Yes</td>\n",
              "    </tr>\n",
              "    <tr>\n",
              "      <th>638451</th>\n",
              "      <td>Municipal Police</td>\n",
              "      <td>Suffocation</td>\n",
              "      <td>22</td>\n",
              "      <td>0</td>\n",
              "      <td>0</td>\n",
              "      <td>2014</td>\n",
              "      <td>1</td>\n",
              "      <td>0</td>\n",
              "      <td>Yes</td>\n",
              "    </tr>\n",
              "    <tr>\n",
              "      <th>638452</th>\n",
              "      <td>Sheriff</td>\n",
              "      <td>Knife</td>\n",
              "      <td>31</td>\n",
              "      <td>0</td>\n",
              "      <td>1</td>\n",
              "      <td>2014</td>\n",
              "      <td>1</td>\n",
              "      <td>55</td>\n",
              "      <td>Yes</td>\n",
              "    </tr>\n",
              "    <tr>\n",
              "      <th>638453</th>\n",
              "      <td>Municipal Police</td>\n",
              "      <td>Blunt Object</td>\n",
              "      <td>24</td>\n",
              "      <td>0</td>\n",
              "      <td>1</td>\n",
              "      <td>2014</td>\n",
              "      <td>1</td>\n",
              "      <td>0</td>\n",
              "      <td>Yes</td>\n",
              "    </tr>\n",
              "  </tbody>\n",
              "</table>\n",
              "<p>638454 rows × 9 columns</p>\n",
              "</div>"
            ],
            "text/plain": [
              "             Agency Type         Weapon  ... Victim Age  Crime Solved\n",
              "0       Municipal Police   Blunt Object  ...         14           Yes\n",
              "1       Municipal Police  Strangulation  ...         43           Yes\n",
              "2       Municipal Police        Unknown  ...         30            No\n",
              "3       Municipal Police  Strangulation  ...         43           Yes\n",
              "4       Municipal Police        Unknown  ...         30            No\n",
              "...                  ...            ...  ...        ...           ...\n",
              "638449           Sheriff        Handgun  ...         30            No\n",
              "638450           Sheriff        Handgun  ...         62           Yes\n",
              "638451  Municipal Police    Suffocation  ...          0           Yes\n",
              "638452           Sheriff          Knife  ...         55           Yes\n",
              "638453  Municipal Police   Blunt Object  ...          0           Yes\n",
              "\n",
              "[638454 rows x 9 columns]"
            ]
          },
          "metadata": {
            "tags": []
          },
          "execution_count": 156
        }
      ]
    },
    {
      "cell_type": "code",
      "metadata": {
        "colab": {
          "base_uri": "https://localhost:8080/"
        },
        "id": "y1yJYDb_Ad4O",
        "outputId": "2d008e34-1332-431a-ca25-c26a63b9e702"
      },
      "source": [
        "dataset.columns.to_list()"
      ],
      "execution_count": 157,
      "outputs": [
        {
          "output_type": "execute_result",
          "data": {
            "text/plain": [
              "['Record ID',\n",
              " 'Agency Code',\n",
              " 'Agency Name',\n",
              " 'Agency Type',\n",
              " 'City',\n",
              " 'Year',\n",
              " 'Month',\n",
              " 'Incident',\n",
              " 'Crime Solved',\n",
              " 'Victim Age',\n",
              " 'Perpetrator Age',\n",
              " 'Weapon',\n",
              " 'Victim Count',\n",
              " 'Perpetrator Count',\n",
              " 'Record Source']"
            ]
          },
          "metadata": {
            "tags": []
          },
          "execution_count": 157
        }
      ]
    },
    {
      "cell_type": "markdown",
      "metadata": {
        "id": "hmgTHbu1I6QF"
      },
      "source": [
        "## RandomForest Model"
      ]
    },
    {
      "cell_type": "code",
      "metadata": {
        "colab": {
          "base_uri": "https://localhost:8080/"
        },
        "id": "aB5Hx5c8A7WY",
        "outputId": "6c292f1a-b81b-4a87-c675-c0f0f1ccaeb9"
      },
      "source": [
        "dataset = pd.read_csv('database.csv')"
      ],
      "execution_count": 158,
      "outputs": [
        {
          "output_type": "stream",
          "text": [
            "/usr/local/lib/python3.7/dist-packages/IPython/core/interactiveshell.py:2718: DtypeWarning: Columns (16) have mixed types.Specify dtype option on import or set low_memory=False.\n",
            "  interactivity=interactivity, compiler=compiler, result=result)\n"
          ],
          "name": "stderr"
        }
      ]
    },
    {
      "cell_type": "code",
      "metadata": {
        "colab": {
          "base_uri": "https://localhost:8080/"
        },
        "id": "CwoQ1kx9A8n4",
        "outputId": "1b386e38-e9e9-4ddb-8634-03d5d8cc6861"
      },
      "source": [
        "dataset.columns.to_list()"
      ],
      "execution_count": 159,
      "outputs": [
        {
          "output_type": "execute_result",
          "data": {
            "text/plain": [
              "['Record ID',\n",
              " 'Agency Code',\n",
              " 'Agency Name',\n",
              " 'Agency Type',\n",
              " 'City',\n",
              " 'State',\n",
              " 'Year',\n",
              " 'Month',\n",
              " 'Incident',\n",
              " 'Crime Type',\n",
              " 'Crime Solved',\n",
              " 'Victim Sex',\n",
              " 'Victim Age',\n",
              " 'Victim Race',\n",
              " 'Victim Ethnicity',\n",
              " 'Perpetrator Sex',\n",
              " 'Perpetrator Age',\n",
              " 'Perpetrator Race',\n",
              " 'Perpetrator Ethnicity',\n",
              " 'Relationship',\n",
              " 'Weapon',\n",
              " 'Victim Count',\n",
              " 'Perpetrator Count',\n",
              " 'Record Source']"
            ]
          },
          "metadata": {
            "tags": []
          },
          "execution_count": 159
        }
      ]
    },
    {
      "cell_type": "code",
      "metadata": {
        "id": "khoKg5HxAcc-"
      },
      "source": [
        "finaldata = dataset.drop(['Crime Type','Victim Race','Victim Sex','Agency Name', 'City', 'Month','Agency Code',\r\n",
        " 'Victim Ethnicity','Relationship',\r\n",
        " 'Perpetrator Sex',\r\n",
        " 'Perpetrator Race',\r\n",
        " 'Perpetrator Ethnicity',\r\n",
        " 'Record ID'],inplace=True,axis=1)"
      ],
      "execution_count": 160,
      "outputs": []
    },
    {
      "cell_type": "code",
      "metadata": {
        "id": "YxFYW96fCueC"
      },
      "source": [
        "dataset.drop(['Record Source'],axis=1,inplace=True)"
      ],
      "execution_count": 161,
      "outputs": []
    },
    {
      "cell_type": "code",
      "metadata": {
        "colab": {
          "base_uri": "https://localhost:8080/"
        },
        "id": "u6YRMBvkA4cl",
        "outputId": "7a92eee8-ef54-4798-e991-48d0530f2b2c"
      },
      "source": [
        "dataset.columns.to_list()"
      ],
      "execution_count": 162,
      "outputs": [
        {
          "output_type": "execute_result",
          "data": {
            "text/plain": [
              "['Agency Type',\n",
              " 'State',\n",
              " 'Year',\n",
              " 'Incident',\n",
              " 'Crime Solved',\n",
              " 'Victim Age',\n",
              " 'Perpetrator Age',\n",
              " 'Weapon',\n",
              " 'Victim Count',\n",
              " 'Perpetrator Count']"
            ]
          },
          "metadata": {
            "tags": []
          },
          "execution_count": 162
        }
      ]
    },
    {
      "cell_type": "code",
      "metadata": {
        "id": "cSnRJCV6CiCD"
      },
      "source": [
        "finaldata = dataset[['Agency Type','State','Incident',\r\n",
        " 'Victim Age',\r\n",
        " 'Weapon',\r\n",
        " 'Victim Count',\r\n",
        " 'Perpetrator Count','Crime Solved']]"
      ],
      "execution_count": 163,
      "outputs": []
    },
    {
      "cell_type": "code",
      "metadata": {
        "id": "HtIPoG_C2x19"
      },
      "source": [
        "from sklearn.preprocessing import LabelEncoder\r\n",
        "le = LabelEncoder()\r\n",
        "agency = le.fit_transform(finaldata['Agency Type'])\r\n",
        "state = le.fit_transform(finaldata['State'])\r\n",
        "weapon = le.fit_transform(finaldata['Weapon'])\r\n",
        "solved = le.fit_transform(finaldata['Crime Solved'])"
      ],
      "execution_count": 164,
      "outputs": []
    },
    {
      "cell_type": "code",
      "metadata": {
        "colab": {
          "base_uri": "https://localhost:8080/"
        },
        "id": "_Iytvn1uEsbc",
        "outputId": "2210b6d4-e3d1-4af0-94aa-876901f5fae3"
      },
      "source": [
        "finaldata['Agency Type'] = agency\r\n",
        "finaldata['State'] = state\r\n",
        "finaldata['Weapon'] = weapon\r\n",
        "finaldata['Crime Solved'] = solved"
      ],
      "execution_count": 165,
      "outputs": [
        {
          "output_type": "stream",
          "text": [
            "/usr/local/lib/python3.7/dist-packages/ipykernel_launcher.py:1: SettingWithCopyWarning: \n",
            "A value is trying to be set on a copy of a slice from a DataFrame.\n",
            "Try using .loc[row_indexer,col_indexer] = value instead\n",
            "\n",
            "See the caveats in the documentation: https://pandas.pydata.org/pandas-docs/stable/user_guide/indexing.html#returning-a-view-versus-a-copy\n",
            "  \"\"\"Entry point for launching an IPython kernel.\n",
            "/usr/local/lib/python3.7/dist-packages/ipykernel_launcher.py:2: SettingWithCopyWarning: \n",
            "A value is trying to be set on a copy of a slice from a DataFrame.\n",
            "Try using .loc[row_indexer,col_indexer] = value instead\n",
            "\n",
            "See the caveats in the documentation: https://pandas.pydata.org/pandas-docs/stable/user_guide/indexing.html#returning-a-view-versus-a-copy\n",
            "  \n",
            "/usr/local/lib/python3.7/dist-packages/ipykernel_launcher.py:3: SettingWithCopyWarning: \n",
            "A value is trying to be set on a copy of a slice from a DataFrame.\n",
            "Try using .loc[row_indexer,col_indexer] = value instead\n",
            "\n",
            "See the caveats in the documentation: https://pandas.pydata.org/pandas-docs/stable/user_guide/indexing.html#returning-a-view-versus-a-copy\n",
            "  This is separate from the ipykernel package so we can avoid doing imports until\n",
            "/usr/local/lib/python3.7/dist-packages/ipykernel_launcher.py:4: SettingWithCopyWarning: \n",
            "A value is trying to be set on a copy of a slice from a DataFrame.\n",
            "Try using .loc[row_indexer,col_indexer] = value instead\n",
            "\n",
            "See the caveats in the documentation: https://pandas.pydata.org/pandas-docs/stable/user_guide/indexing.html#returning-a-view-versus-a-copy\n",
            "  after removing the cwd from sys.path.\n"
          ],
          "name": "stderr"
        }
      ]
    },
    {
      "cell_type": "code",
      "metadata": {
        "colab": {
          "base_uri": "https://localhost:8080/"
        },
        "id": "B4Vt18RvGzve",
        "outputId": "7a5f271c-4270-480d-ab28-237090041460"
      },
      "source": [
        "finaldata.dtypes"
      ],
      "execution_count": 166,
      "outputs": [
        {
          "output_type": "execute_result",
          "data": {
            "text/plain": [
              "Agency Type          int64\n",
              "State                int64\n",
              "Incident             int64\n",
              "Victim Age           int64\n",
              "Weapon               int64\n",
              "Victim Count         int64\n",
              "Perpetrator Count    int64\n",
              "Crime Solved         int64\n",
              "dtype: object"
            ]
          },
          "metadata": {
            "tags": []
          },
          "execution_count": 166
        }
      ]
    },
    {
      "cell_type": "code",
      "metadata": {
        "id": "DXskXDZyDB8r"
      },
      "source": [
        "x = finaldata.iloc[:, :-1].values\r\n",
        "y = finaldata.iloc[:, -1].values"
      ],
      "execution_count": 167,
      "outputs": []
    },
    {
      "cell_type": "code",
      "metadata": {
        "id": "HLOFwF9s4Wik"
      },
      "source": [
        "from sklearn.model_selection import train_test_split\r\n",
        "X_train, X_test, y_train, y_test = train_test_split(x, y, test_size = 0.25, random_state = 0)"
      ],
      "execution_count": 168,
      "outputs": []
    },
    {
      "cell_type": "code",
      "metadata": {
        "colab": {
          "base_uri": "https://localhost:8080/"
        },
        "id": "j6susQxA49S0",
        "outputId": "4c77cd5c-635d-4a8f-90e7-2980beab368c"
      },
      "source": [
        "from sklearn.ensemble import RandomForestClassifier\r\n",
        "classifier = RandomForestClassifier(n_estimators = 35, criterion = 'entropy')\r\n",
        "classifier.fit(X_train, y_train)"
      ],
      "execution_count": 169,
      "outputs": [
        {
          "output_type": "execute_result",
          "data": {
            "text/plain": [
              "RandomForestClassifier(bootstrap=True, ccp_alpha=0.0, class_weight=None,\n",
              "                       criterion='entropy', max_depth=None, max_features='auto',\n",
              "                       max_leaf_nodes=None, max_samples=None,\n",
              "                       min_impurity_decrease=0.0, min_impurity_split=None,\n",
              "                       min_samples_leaf=1, min_samples_split=2,\n",
              "                       min_weight_fraction_leaf=0.0, n_estimators=35,\n",
              "                       n_jobs=None, oob_score=False, random_state=None,\n",
              "                       verbose=0, warm_start=False)"
            ]
          },
          "metadata": {
            "tags": []
          },
          "execution_count": 169
        }
      ]
    },
    {
      "cell_type": "code",
      "metadata": {
        "id": "PW_6OSDI5DgA"
      },
      "source": [
        "y_pred = classifier.predict(X_test)"
      ],
      "execution_count": 170,
      "outputs": []
    },
    {
      "cell_type": "code",
      "metadata": {
        "colab": {
          "base_uri": "https://localhost:8080/"
        },
        "id": "EFE1aMSZH4j5",
        "outputId": "2c8e8949-7884-472b-ce0c-118b277625c1"
      },
      "source": [
        "from sklearn.metrics import accuracy_score\r\n",
        "accuracy_score(y_test, y_pred)"
      ],
      "execution_count": 171,
      "outputs": [
        {
          "output_type": "execute_result",
          "data": {
            "text/plain": [
              "0.7115603894395228"
            ]
          },
          "metadata": {
            "tags": []
          },
          "execution_count": 171
        }
      ]
    }
  ]
}